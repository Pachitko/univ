{
  "cells": [
    {
      "attachments": {},
      "cell_type": "markdown",
      "metadata": {
        "id": "0Wg68oC9ZP_Z"
      },
      "source": [
        "# Практическая работа №14. Замыкания и декораторы"
      ]
    },
    {
      "attachments": {},
      "cell_type": "markdown",
      "metadata": {
        "id": "ELt2MWNR0kCj"
      },
      "source": [
        "[Ссылка на код с пары](https://colab.research.google.com/drive/1YYv4KOSjf9Da-4fIZsPyxWJDYE15ICzs?usp=sharing)"
      ]
    },
    {
      "attachments": {},
      "cell_type": "markdown",
      "metadata": {
        "id": "eVsLMeozyshu"
      },
      "source": [
        "## Задание №1. Напишите две функции создания списка из четных чисел от 0 до N (N – аргумент функции): ([0, 2, 4, …, N]). В первой функции должна быть реализация с помощью метода append, во второй функции с помощью инструмента list comprehensions (генератор списков). После этого, через декоратор, определите время работы этих функций\n",
        "\n"
      ]
    },
    {
      "cell_type": "code",
      "execution_count": null,
      "metadata": {
        "id": "04AwDHUyZe6F"
      },
      "outputs": [],
      "source": [
        "# Ваш код"
      ]
    },
    {
      "attachments": {},
      "cell_type": "markdown",
      "metadata": {
        "id": "bqCd0fFkZfAz"
      },
      "source": [
        "## Задание №2. Напишите декоратор для кэширования результатов работы функции вычисляющей значение n-го числа [ряда Фибоначчи](https://ru.wikipedia.org/wiki/Числа_Фибоначчи)."
      ]
    },
    {
      "attachments": {},
      "cell_type": "markdown",
      "metadata": {
        "id": "DfDtOSmDl7ic"
      },
      "source": [
        "То есть, при повторном вызове функции (через декоратор) уже имеющийся результат должен браться из кэша, а не вычисляться заново. \n",
        "\n",
        "* Например: при значении парамаетра n = 5, должна кэшироваться последовательность (0, 1, 1, 2, 3, 5), \n",
        "* Вызывая после этого целевую функцию через декоратор ещё раз, при подаче на вход значения n = 3, из кэша должен подгрузиться уже заранее вычесленный результат, за исключением двух последних чисел (0, 1, 1, 2).\n",
        "* В случае, если следующее переданное значение будет больше предыдущих, например n = 10, то вычисление следующих чисел ряда должно начинаться с закэшированной последовательности (0, 1, 1, 2, 3, 5)\n",
        "\n",
        "(Подсказка: здесь следует использовать замыкание для хранения кэша.)"
      ]
    },
    {
      "cell_type": "code",
      "execution_count": null,
      "metadata": {
        "id": "CtbbsIBsZfHB"
      },
      "outputs": [],
      "source": [
        "# Ваш код"
      ]
    },
    {
      "attachments": {},
      "cell_type": "markdown",
      "metadata": {
        "id": "zY5zVHuifDve"
      },
      "source": [
        "## Задание №3. Примените к функции из задания №2 сразу два декоратора - определяющий время выполнения и кеширующий значения. Сравните время работы функции с использованием кеширования параметров и без использования"
      ]
    },
    {
      "cell_type": "code",
      "execution_count": null,
      "metadata": {
        "id": "dXuu8LJgg-0r"
      },
      "outputs": [],
      "source": [
        "# Ваш код"
      ]
    }
  ],
  "metadata": {
    "colab": {
      "provenance": []
    },
    "kernelspec": {
      "display_name": "Python 3",
      "name": "python3"
    },
    "language_info": {
      "name": "python"
    }
  },
  "nbformat": 4,
  "nbformat_minor": 0
}
