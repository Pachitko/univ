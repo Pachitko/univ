{
  "cells": [
    {
      "cell_type": "code",
      "execution_count": 1,
      "metadata": {
        "id": "u9V9BqAHOrkC"
      },
      "outputs": [
        {
          "ename": "ModuleNotFoundError",
          "evalue": "No module named 'cv2'",
          "output_type": "error",
          "traceback": [
            "\u001b[1;31m---------------------------------------------------------------------------\u001b[0m",
            "\u001b[1;31mModuleNotFoundError\u001b[0m                       Traceback (most recent call last)",
            "\u001b[1;32md:\\Documents\\code\\C#\\univ\\Image Practice\\Practice 1.ipynb Cell 1\u001b[0m line \u001b[0;36m4\n\u001b[0;32m      <a href='vscode-notebook-cell:/d%3A/Documents/code/C%23/univ/Image%20Practice/Practice%201.ipynb#W0sZmlsZQ%3D%3D?line=1'>2</a>\u001b[0m \u001b[39mimport\u001b[39;00m \u001b[39mnumpy\u001b[39;00m \u001b[39mas\u001b[39;00m \u001b[39mnp\u001b[39;00m\n\u001b[0;32m      <a href='vscode-notebook-cell:/d%3A/Documents/code/C%23/univ/Image%20Practice/Practice%201.ipynb#W0sZmlsZQ%3D%3D?line=2'>3</a>\u001b[0m \u001b[39mimport\u001b[39;00m \u001b[39murllib\u001b[39;00m\u001b[39m.\u001b[39;00m\u001b[39mrequest\u001b[39;00m\n\u001b[1;32m----> <a href='vscode-notebook-cell:/d%3A/Documents/code/C%23/univ/Image%20Practice/Practice%201.ipynb#W0sZmlsZQ%3D%3D?line=3'>4</a>\u001b[0m \u001b[39mimport\u001b[39;00m \u001b[39mcv2\u001b[39;00m\n\u001b[0;32m      <a href='vscode-notebook-cell:/d%3A/Documents/code/C%23/univ/Image%20Practice/Practice%201.ipynb#W0sZmlsZQ%3D%3D?line=4'>5</a>\u001b[0m \u001b[39mimport\u001b[39;00m \u001b[39msys\u001b[39;00m\n\u001b[0;32m      <a href='vscode-notebook-cell:/d%3A/Documents/code/C%23/univ/Image%20Practice/Practice%201.ipynb#W0sZmlsZQ%3D%3D?line=5'>6</a>\u001b[0m \u001b[39mfrom\u001b[39;00m \u001b[39murllib\u001b[39;00m\u001b[39m.\u001b[39;00m\u001b[39mrequest\u001b[39;00m \u001b[39mimport\u001b[39;00m urlopen\n",
            "\u001b[1;31mModuleNotFoundError\u001b[0m: No module named 'cv2'"
          ]
        }
      ],
      "source": [
        "import matplotlib.pyplot as plt\n",
        "import numpy as np\n",
        "import urllib.request\n",
        "import cv2\n",
        "import sys\n",
        "from urllib.request import urlopen\n",
        "from urllib.parse import quote\n",
        "import requests\n",
        "from google.colab.patches import cv2_imshow"
      ]
    },
    {
      "cell_type": "code",
      "execution_count": null,
      "metadata": {
        "id": "6Yvz_WfY2ixJ"
      },
      "outputs": [],
      "source": [
        "# фильтр низких частот\n",
        "lowFilterFreq = np.array(\n",
        "    [[1, 1, 1, 1, 1],\n",
        "    [1, 1, 1, 1, 1],\n",
        "    [1, 1, 1, 1, 1],\n",
        "    [1, 1, 1, 1, 1],\n",
        "    [1, 1, 1, 1, 1]])\n",
        "\n",
        "# фильтр высоких частот\n",
        "highFilterFreq = np.array(\n",
        "    [[0.0, -1.0, 0.0],\n",
        " [-1.0, 4.0, -1.0],\n",
        " [0.0, -1.0, 0.0]])\n",
        "\n",
        "# увеличение резкости\n",
        "myFilter = np.array([\n",
        "    [-1, -1, -1],\n",
        "    [-1, 9, -1],\n",
        "    [-1, -1, -1]])\n",
        "\n",
        "filters = [lowFilterFreq, highFilterFreq, myFilter]"
      ]
    },
    {
      "cell_type": "code",
      "execution_count": null,
      "metadata": {
        "id": "2egwnOaFPz2l"
      },
      "outputs": [],
      "source": [
        "for imageIndex in range(1, 6):\n",
        "  image = cv2.imread(\"/content/images/{}.jpg\".format(imageIndex))\n",
        "  for filterIndex, filter in enumerate(filters):\n",
        "    normilizedFilter = filter/(np.sum(filter) if np.sum(filter)!=0 else 1)\n",
        "\n",
        "    newImage = cv2.filter2D(image, -1, normilizedFilter)\n",
        "    concatenatedImage = cv2.hconcat([image, newImage])\n",
        "    cv2.imwrite(f'{imageIndex}-{filterIndex}.jpg', concatenatedImage)\n",
        "    cv2_imshow(concatenatedImage)\n",
        "  # image = cv2.cvtColor(image, cv2.COLOR_BGR2RGB) # Преобразуем палитру цветов изображения в стандартную (RGB) из (BGR)."
      ]
    }
  ],
  "metadata": {
    "colab": {
      "provenance": []
    },
    "kernelspec": {
      "display_name": "Python 3",
      "name": "python3"
    },
    "language_info": {
      "codemirror_mode": {
        "name": "ipython",
        "version": 3
      },
      "file_extension": ".py",
      "mimetype": "text/x-python",
      "name": "python",
      "nbconvert_exporter": "python",
      "pygments_lexer": "ipython3",
      "version": "3.11.3"
    }
  },
  "nbformat": 4,
  "nbformat_minor": 0
}
